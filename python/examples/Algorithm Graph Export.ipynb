{
 "cells": [
  {
   "cell_type": "markdown",
   "metadata": {},
   "source": [
    "# Algorithm Graph Export\n",
    "\n",
    "Demonstrates how a tensorflow graph for a deconvolution algorithm can be built and then exported for use from other clients."
   ]
  },
  {
   "cell_type": "code",
   "execution_count": 1,
   "metadata": {},
   "outputs": [],
   "source": [
    "from flowdec import restoration as fd_restoration\n",
    "import tensorflow as tf\n",
    "import tempfile\n",
    "import shutil\n",
    "import os"
   ]
  },
  {
   "cell_type": "markdown",
   "metadata": {},
   "source": [
    "Initialize the graph by specifying parameters that are constant within it.  For example, all of the following are not dynamic parts of each graph and must be set ahead of time:\n",
    "\n",
    "- Number of dimensions for input/output data (1D vs 2D vs 3D)\n",
    "    - \\* This is necessary because TF FFT functions are not dynamic\n",
    "- Domain in which FFT will be run (spatial vs frequency)"
   ]
  },
  {
   "cell_type": "code",
   "execution_count": 8,
   "metadata": {},
   "outputs": [],
   "source": [
    "ndims = 2\n",
    "domain_type = 'complex'\n",
    "algo = fd_restoration.RichardsonLucyDeconvolver(\n",
    "    ndims, pad_mode='log2', real_domain_fft=(domain_type == 'real')\n",
    ").initialize()"
   ]
  },
  {
   "cell_type": "markdown",
   "metadata": {},
   "source": [
    "Set export directory into which the graph will be saved and clear it out, if it already exists:"
   ]
  },
  {
   "cell_type": "code",
   "execution_count": 9,
   "metadata": {},
   "outputs": [],
   "source": [
    "export_dir = os.path.abspath(os.path.normpath('../../tensorflow/richardson-lucy-{}-{}d'.format(domain_type, ndims)))\n",
    "export_dir\n",
    "\n",
    "if os.path.exists(export_dir):\n",
    "    shutil.rmtree(export_dir)"
   ]
  },
  {
   "cell_type": "markdown",
   "metadata": {},
   "source": [
    "Write the graph out to a plain text \"pbtxt\" file:"
   ]
  },
  {
   "cell_type": "code",
   "execution_count": 10,
   "metadata": {},
   "outputs": [
    {
     "name": "stdout",
     "output_type": "stream",
     "text": [
      "INFO:tensorflow:No assets to save.\n",
      "INFO:tensorflow:No assets to write.\n",
      "INFO:tensorflow:SavedModel written to: b'/Users/eczech/repos/hammer/flowdec/tensorflow/richardson-lucy-complex-2d/saved_model.pbtxt'\n"
     ]
    },
    {
     "data": {
      "text/plain": [
       "<flowdec.restoration.DeconvolutionGraph at 0x11bb33080>"
      ]
     },
     "execution_count": 10,
     "metadata": {},
     "output_type": "execute_result"
    }
   ],
   "source": [
    "algo.graph.save(export_dir, save_as_text=True)"
   ]
  },
  {
   "cell_type": "markdown",
   "metadata": {},
   "source": [
    "As a test, reload the graph and make sure that operations within it are retrievable and runnable:"
   ]
  },
  {
   "cell_type": "code",
   "execution_count": 5,
   "metadata": {},
   "outputs": [
    {
     "name": "stdout",
     "output_type": "stream",
     "text": [
      "INFO:tensorflow:Saver not created because there are no variables in the graph to restore\n",
      "INFO:tensorflow:The specified SavedModel has no variables; no checkpoints were restored.\n"
     ]
    }
   ],
   "source": [
    "g = tf.Graph()\n",
    "with tf.Session(graph=g) as sess:\n",
    "    saver = tf.saved_model.loader.load(sess, [tf.saved_model.tag_constants.SERVING], export_dir) "
   ]
  },
  {
   "cell_type": "code",
   "execution_count": 6,
   "metadata": {},
   "outputs": [],
   "source": [
    "import numpy as np\n",
    "with tf.Session(graph=g) as sess:\n",
    "    dh = g.get_tensor_by_name(\"data:0\")\n",
    "    kh = g.get_tensor_by_name(\"kernel:0\")\n",
    "    ph = g.get_tensor_by_name(\"padding_mode:0\")\n",
    "    ih = g.get_tensor_by_name(\"niter:0\")\n",
    "    o = g.get_tensor_by_name(\"result:0\")\n",
    "    res = sess.run(o, feed_dict={dh: np.ones((5, 5, 5)), kh: np.ones((5, 5, 5)), ph: 'log2', ih: 10})"
   ]
  },
  {
   "cell_type": "code",
   "execution_count": 7,
   "metadata": {},
   "outputs": [
    {
     "data": {
      "text/plain": [
       "(5, 5, 5)"
      ]
     },
     "execution_count": 7,
     "metadata": {},
     "output_type": "execute_result"
    }
   ],
   "source": [
    "res.shape"
   ]
  }
 ],
 "metadata": {
  "kernelspec": {
   "display_name": "Python 3",
   "language": "python",
   "name": "python3"
  },
  "language_info": {
   "codemirror_mode": {
    "name": "ipython",
    "version": 3
   },
   "file_extension": ".py",
   "mimetype": "text/x-python",
   "name": "python",
   "nbconvert_exporter": "python",
   "pygments_lexer": "ipython3",
   "version": "3.6.2"
  }
 },
 "nbformat": 4,
 "nbformat_minor": 2
}
