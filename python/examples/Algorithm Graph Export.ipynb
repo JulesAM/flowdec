{
 "cells": [
  {
   "cell_type": "markdown",
   "metadata": {},
   "source": [
    "# Algorithm Graph Export\n",
    "\n",
    "Demonstrates how a tensorflow graph for a deconvolution algorithm can be built and then exported for use from other clients."
   ]
  },
  {
   "cell_type": "code",
   "execution_count": 1,
   "metadata": {},
   "outputs": [],
   "source": [
    "from tfdecon import restoration\n",
    "import tensorflow as tf\n",
    "import tempfile\n",
    "import shutil\n",
    "import os"
   ]
  },
  {
   "cell_type": "markdown",
   "metadata": {},
   "source": [
    "Initialize the graph by specifying parameters that are constant within it.  For example, all of the following are not dynamic parts of each graph and must be set ahead of time:\n",
    "\n",
    "- Number of dimensions for input/output data (1D vs 2D vs 3D)\n",
    "    - \\* This is necessary because TF FFT functions are not dynamic\n",
    "- Domain in which FFT will be run (spatial vs frequency)"
   ]
  },
  {
   "cell_type": "code",
   "execution_count": 2,
   "metadata": {},
   "outputs": [],
   "source": [
    "ndims = 3\n",
    "domain_type = 'complex'\n",
    "algo = restoration.RichardsonLucyDeconvolver(\n",
    "    ndims, pad_mode='log2', real_domain_fft=(domain_type == 'real')\n",
    ").initialize()"
   ]
  },
  {
   "cell_type": "markdown",
   "metadata": {},
   "source": [
    "Set export directory into which the graph will be saved and clear it out, if it already exists:"
   ]
  },
  {
   "cell_type": "code",
   "execution_count": 3,
   "metadata": {},
   "outputs": [],
   "source": [
    "export_dir = os.path.abspath(os.path.normpath('../../tensorflow/richardson-lucy-{}-{}d'.format(domain_type, ndims)))\n",
    "export_dir\n",
    "\n",
    "if os.path.exists(export_dir):\n",
    "    shutil.rmtree(export_dir)"
   ]
  },
  {
   "cell_type": "markdown",
   "metadata": {},
   "source": [
    "Write the graph out to a plain text \"pbtxt\" file:"
   ]
  },
  {
   "cell_type": "code",
   "execution_count": 29,
   "metadata": {},
   "outputs": [
    {
     "name": "stdout",
     "output_type": "stream",
     "text": [
      "INFO:tensorflow:No assets to save.\n",
      "INFO:tensorflow:No assets to write.\n",
      "INFO:tensorflow:SavedModel written to: b'C:\\\\Users\\\\User\\\\repos\\\\codex-analysis\\\\deconvolution\\\\tensorflow\\\\richardson-lucy-complex-2d\\\\saved_model.pbtxt'\n"
     ]
    },
    {
     "data": {
      "text/plain": [
       "<tfdecon.restoration.DeconvolutionGraph at 0x1e8fcfa1f60>"
      ]
     },
     "execution_count": 29,
     "metadata": {},
     "output_type": "execute_result"
    }
   ],
   "source": [
    "algo.graph.save(export_dir, save_as_text=True)"
   ]
  },
  {
   "cell_type": "markdown",
   "metadata": {},
   "source": [
    "As a test, reload the graph and make sure that operations within it are retrievable:"
   ]
  },
  {
   "cell_type": "code",
   "execution_count": 12,
   "metadata": {},
   "outputs": [
    {
     "name": "stdout",
     "output_type": "stream",
     "text": [
      "INFO:tensorflow:Saver not created because there are no variables in the graph to restore\n",
      "INFO:tensorflow:The specified SavedModel has no variables; no checkpoints were restored.\n"
     ]
    }
   ],
   "source": [
    "g = tf.Graph()\n",
    "with tf.Session(graph=g) as sess:\n",
    "    saver = tf.saved_model.loader.load(sess, [tf.saved_model.tag_constants.SERVING], export_dir) "
   ]
  },
  {
   "cell_type": "code",
   "execution_count": 9,
   "metadata": {},
   "outputs": [],
   "source": [
    "import numpy as np\n",
    "with tf.Session(graph=g) as sess:\n",
    "    dh = g.get_tensor_by_name(\"data:0\")\n",
    "    kh = g.get_tensor_by_name(\"kernel:0\")\n",
    "    ph = g.get_tensor_by_name(\"padding_mode:0\")\n",
    "    ih = g.get_tensor_by_name(\"niter:0\")\n",
    "    o = g.get_tensor_by_name(\"result:0\")\n",
    "    res = sess.run(o, feed_dict={dh: np.ones((5, 5, 5)), kh: np.ones((5, 5, 5)), ph: 'log2', ih: 10})"
   ]
  },
  {
   "cell_type": "code",
   "execution_count": 10,
   "metadata": {},
   "outputs": [
    {
     "data": {
      "text/plain": [
       "array([[[7.21188087e-09, 1.52314598e-07, 2.65712642e-05, 4.98863346e-06,\n",
       "         7.41669396e-07],\n",
       "        [1.52314556e-07, 3.21687867e-06, 5.61184075e-04, 1.05359824e-04,\n",
       "         1.56640272e-05],\n",
       "        [2.65712661e-05, 5.61184366e-04, 9.78985354e-02, 1.83800161e-02,\n",
       "         2.73258844e-03],\n",
       "        [4.98863574e-06, 1.05359926e-04, 1.83800068e-02, 3.45076714e-03,\n",
       "         5.13031555e-04],\n",
       "        [7.41669453e-07, 1.56640453e-05, 2.73258938e-03, 5.13031904e-04,\n",
       "         7.62732889e-05]],\n",
       "\n",
       "       [[1.52314598e-07, 3.21688094e-06, 5.61183842e-04, 1.05359839e-04,\n",
       "         1.56640326e-05],\n",
       "        [3.21688049e-06, 6.79403965e-05, 1.18521927e-02, 2.22519645e-03,\n",
       "         3.30823910e-04],\n",
       "        [5.61184715e-04, 1.18522001e-02, 2.06761408e+00, 3.88185471e-01,\n",
       "         5.77122346e-02],\n",
       "        [1.05359955e-04, 2.22519878e-03, 3.88185471e-01, 7.28800893e-02,\n",
       "         1.08352154e-02],\n",
       "        [1.56640472e-05, 3.30824318e-04, 5.77122159e-02, 1.08352182e-02,\n",
       "         1.61089061e-03]],\n",
       "\n",
       "       [[2.65712733e-05, 5.61184424e-04, 9.78984684e-02, 1.83800105e-02,\n",
       "         2.73258868e-03],\n",
       "        [5.61184250e-04, 1.18521973e-02, 2.06761217e+00, 3.88185143e-01,\n",
       "         5.77121750e-02],\n",
       "        [9.78984907e-02, 2.06761384e+00, 3.60694489e+02, 6.77188110e+01,\n",
       "         1.00678720e+01],\n",
       "        [1.83800254e-02, 3.88185412e-01, 6.77187881e+01, 1.27139063e+01,\n",
       "         1.89019918e+00],\n",
       "        [2.73259054e-03, 5.77122197e-02, 1.00678740e+01, 1.89019859e+00,\n",
       "         2.81019092e-01]],\n",
       "\n",
       "       [[4.98863619e-06, 1.05359912e-04, 1.83800030e-02, 3.45076621e-03,\n",
       "         5.13031438e-04],\n",
       "        [1.05359875e-04, 2.22519739e-03, 3.88185084e-01, 7.28800744e-02,\n",
       "         1.08352061e-02],\n",
       "        [1.83800161e-02, 3.88185441e-01, 6.77188034e+01, 1.27139120e+01,\n",
       "         1.89019942e+00],\n",
       "        [3.45076737e-03, 7.28801116e-02, 1.27139044e+01, 2.38697982e+00,\n",
       "         3.54876488e-01],\n",
       "        [5.13031846e-04, 1.08352173e-02, 1.89019907e+00, 3.54876608e-01,\n",
       "         5.27601056e-02]],\n",
       "\n",
       "       [[7.41669169e-07, 1.56640326e-05, 2.73258775e-03, 5.13031438e-04,\n",
       "         7.62732598e-05],\n",
       "        [1.56640308e-05, 3.30824085e-04, 5.77121787e-02, 1.08352089e-02,\n",
       "         1.61088933e-03],\n",
       "        [2.73258868e-03, 5.77122159e-02, 1.00678711e+01, 1.89019871e+00,\n",
       "         2.81019092e-01],\n",
       "        [5.13031671e-04, 1.08352145e-02, 1.89019847e+00, 3.54876548e-01,\n",
       "         5.27601056e-02],\n",
       "        [7.62733107e-05, 1.61089038e-03, 2.81019002e-01, 5.27600944e-02,\n",
       "         7.84393493e-03]]], dtype=float32)"
      ]
     },
     "execution_count": 10,
     "metadata": {},
     "output_type": "execute_result"
    }
   ],
   "source": [
    "res"
   ]
  }
 ],
 "metadata": {
  "kernelspec": {
   "display_name": "Python 3",
   "language": "python",
   "name": "python3"
  },
  "language_info": {
   "codemirror_mode": {
    "name": "ipython",
    "version": 3
   },
   "file_extension": ".py",
   "mimetype": "text/x-python",
   "name": "python",
   "nbconvert_exporter": "python",
   "pygments_lexer": "ipython3",
   "version": "3.6.4"
  }
 },
 "nbformat": 4,
 "nbformat_minor": 2
}
