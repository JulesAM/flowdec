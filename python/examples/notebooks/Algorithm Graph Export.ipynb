{
 "cells": [
  {
   "cell_type": "markdown",
   "metadata": {},
   "source": [
    "# Algorithm Graph Export\n",
    "\n",
    "Demonstrates how a tensorflow graph for a deconvolution algorithm can be built and then exported for use from other clients."
   ]
  },
  {
   "cell_type": "code",
   "execution_count": 1,
   "metadata": {},
   "outputs": [],
   "source": [
    "from flowdec import restoration as fd_restoration\n",
    "import tensorflow as tf\n",
    "import tempfile\n",
    "import shutil\n",
    "import os"
   ]
  },
  {
   "cell_type": "markdown",
   "metadata": {},
   "source": [
    "Initialize the graph by specifying parameters that are constant within it.  For example, all of the following are not dynamic parts of each graph and must be set ahead of time:\n",
    "\n",
    "- Number of dimensions for input/output data (1D vs 2D vs 3D)\n",
    "    - \\* This is necessary because TF FFT functions are not dynamic\n",
    "- Domain in which FFT will be run (real vs complex)"
   ]
  },
  {
   "cell_type": "code",
   "execution_count": 28,
   "metadata": {},
   "outputs": [],
   "source": [
    "ndims = 3\n",
    "domain_type = 'complex'\n",
    "algo = fd_restoration.RichardsonLucyDeconvolver(\n",
    "    ndims, pad_mode='log2', real_domain_fft=(domain_type == 'real')\n",
    ").initialize()"
   ]
  },
  {
   "cell_type": "markdown",
   "metadata": {},
   "source": [
    "Set export directory into which the graph will be saved and clear it out, if it already exists:"
   ]
  },
  {
   "cell_type": "code",
   "execution_count": 29,
   "metadata": {},
   "outputs": [
    {
     "data": {
      "text/plain": [
       "'/var/folders/vc/j01b02990c7g90mw6v_dqpsw0000gn/T/tf-ztbt44qk-graph'"
      ]
     },
     "execution_count": 29,
     "metadata": {},
     "output_type": "execute_result"
    }
   ],
   "source": [
    "export_dir = tempfile.mkdtemp('-graph', 'tf-')\n",
    "if os.path.exists(export_dir):\n",
    "    shutil.rmtree(export_dir)\n",
    "export_dir"
   ]
  },
  {
   "cell_type": "markdown",
   "metadata": {},
   "source": [
    "Write the graph out to a plain text \"pbtxt\" file:"
   ]
  },
  {
   "cell_type": "code",
   "execution_count": 30,
   "metadata": {},
   "outputs": [
    {
     "name": "stdout",
     "output_type": "stream",
     "text": [
      "INFO:tensorflow:No assets to save.\n",
      "INFO:tensorflow:No assets to write.\n",
      "INFO:tensorflow:SavedModel written to: b'/var/folders/vc/j01b02990c7g90mw6v_dqpsw0000gn/T/tf-ztbt44qk-graph/saved_model.pbtxt'\n"
     ]
    },
    {
     "data": {
      "text/plain": [
       "<flowdec.restoration.DeconvolutionGraph at 0x116a83048>"
      ]
     },
     "execution_count": 30,
     "metadata": {},
     "output_type": "execute_result"
    }
   ],
   "source": [
    "algo.graph.save(export_dir, save_as_text=True)"
   ]
  },
  {
   "cell_type": "markdown",
   "metadata": {},
   "source": [
    "As a test, reload the graph and make sure that operations within it are retrievable and runnable:"
   ]
  },
  {
   "cell_type": "code",
   "execution_count": 31,
   "metadata": {},
   "outputs": [
    {
     "name": "stdout",
     "output_type": "stream",
     "text": [
      "INFO:tensorflow:Saver not created because there are no variables in the graph to restore\n",
      "INFO:tensorflow:The specified SavedModel has no variables; no checkpoints were restored.\n"
     ]
    }
   ],
   "source": [
    "g = tf.Graph()\n",
    "with tf.Session(graph=g) as sess:\n",
    "    saver = tf.saved_model.loader.load(sess, [tf.saved_model.tag_constants.SERVING], export_dir) "
   ]
  },
  {
   "cell_type": "code",
   "execution_count": 32,
   "metadata": {},
   "outputs": [],
   "source": [
    "import numpy as np\n",
    "with tf.Session(graph=g) as sess:\n",
    "    dh = g.get_tensor_by_name(\"data:0\")\n",
    "    kh = g.get_tensor_by_name(\"kernel:0\")\n",
    "    ph = g.get_tensor_by_name(\"pad_mode:0\")\n",
    "    ih = g.get_tensor_by_name(\"niter:0\")\n",
    "    o = g.get_tensor_by_name(\"result:0\")\n",
    "    res = sess.run(o, feed_dict={dh: np.ones([5]*ndims), kh: np.ones([5]*ndims), ph: 'log2', ih: 10})"
   ]
  },
  {
   "cell_type": "code",
   "execution_count": 33,
   "metadata": {},
   "outputs": [
    {
     "data": {
      "text/plain": [
       "(5, 5, 5)"
      ]
     },
     "execution_count": 33,
     "metadata": {},
     "output_type": "execute_result"
    }
   ],
   "source": [
    "res.shape"
   ]
  }
 ],
 "metadata": {
  "kernelspec": {
   "display_name": "Python 3",
   "language": "python",
   "name": "python3"
  },
  "language_info": {
   "codemirror_mode": {
    "name": "ipython",
    "version": 3
   },
   "file_extension": ".py",
   "mimetype": "text/x-python",
   "name": "python",
   "nbconvert_exporter": "python",
   "pygments_lexer": "ipython3",
   "version": "3.6.5"
  }
 },
 "nbformat": 4,
 "nbformat_minor": 2
}
