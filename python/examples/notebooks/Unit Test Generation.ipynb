{
 "cells": [
  {
   "cell_type": "markdown",
   "metadata": {},
   "source": [
    "# Unit Test Generation\n",
    "\n",
    "Example deconvolutions of very basic 2 and 3 dimensional shapes, used largely for the purposes of building and debugging unit tests."
   ]
  },
  {
   "cell_type": "code",
   "execution_count": 2,
   "metadata": {},
   "outputs": [],
   "source": [
    "%matplotlib inline\n",
    "from scipy.stats import describe\n",
    "from flowdec.nb import utils as nbutils\n",
    "import matplotlib.pyplot as plt"
   ]
  },
  {
   "cell_type": "markdown",
   "metadata": {},
   "source": [
    "## Simple 2D Shape Test"
   ]
  },
  {
   "cell_type": "code",
   "execution_count": 38,
   "metadata": {},
   "outputs": [
    {
     "name": "stdout",
     "output_type": "stream",
     "text": [
      "Normalizing kernel\n"
     ]
    },
    {
     "data": {
      "text/plain": [
       "<matplotlib.image.AxesImage at 0x11f601550>"
      ]
     },
     "execution_count": 38,
     "metadata": {},
     "output_type": "execute_result"
    },
    {
     "data": {
      "image/png": "[encoded data removed]",
      "text/plain": [
       "<Figure size 1152x360 with 5 Axes>"
      ]
     },
     "metadata": {},
     "output_type": "display_data"
    }
   ],
   "source": [
    "import numpy as np\n",
    "import tensorflow as tf\n",
    "from flowdec import tf_ops\n",
    "from flowdec import data as fd_data\n",
    "from flowdec import restoration as fd_restoration\n",
    "from flowdec import validation as fd_validation\n",
    "from flowdec import exec as tfd_exec\n",
    "from skimage import restoration as sk_restoration\n",
    "from skimage.exposure import rescale_intensity\n",
    "\n",
    "x = np.zeros((3, 3))\n",
    "x[1, 1] = 1\n",
    "k = np.zeros((3, 3))\n",
    "k[1, 1] = 1\n",
    "\n",
    "# x = np.zeros((9, 9))\n",
    "# x[3:6, 3:6] = 1\n",
    "# k = np.zeros((9, 9))\n",
    "# k[4, 4] = 1\n",
    "\n",
    "# x = np.zeros((7, 7))\n",
    "# x[2:5, 2:5] = 1\n",
    "# k = np.zeros((7, 7))\n",
    "# k[3, 3] = 1\n",
    "\n",
    "# x = np.zeros((9, 9))\n",
    "# x[3:6, 3:6] = 1\n",
    "# k = np.zeros((7, 7))\n",
    "# k[2:5, 2:5] = 1\n",
    "\n",
    "# x = np.zeros((8, 8))\n",
    "# x[3:5, 3:5] = 1\n",
    "# k = np.zeros((7, 7))\n",
    "# k[2:5, 2:5] = 1\n",
    "\n",
    "# x = np.zeros((9, 9))\n",
    "# x[3, 4] = 1\n",
    "# x[4, 3:6] = 1\n",
    "# x[5, 4] = 1\n",
    "# k = np.zeros((9, 9))\n",
    "# k[4, 4] = 1\n",
    "\n",
    "\n",
    "acq = fd_data.Acquisition(data=x.astype(np.float32), kernel=k.astype(np.float32), actual=x.astype(np.float32))\n",
    "acq = fd_validation.reblur(acq, scale=0.01)\n",
    "acq.data = rescale_intensity(acq.data, out_range=(0., 1.))\n",
    "\n",
    "res = fd_restoration.richardson_lucy(\n",
    "    acq, 10, pad_mode='log2', real_domain_fft=False, \n",
    "    session_config=tf.ConfigProto(device_count={'GPU': 0}))\n",
    "#res = sk_restoration.richardson_lucy(acq.data, acq.kernel, iterations=10, clip=False)\n",
    "#res = tfd_exec.run_dl2(acq, 10, 'none')\n",
    "\n",
    "res_bin = (res > res.mean()).astype(np.int64) \n",
    "\n",
    "\n",
    "fig, axs = plt.subplots(1, 5)\n",
    "fig.set_size_inches(16, 5)\n",
    "axs[0].imshow(acq.data)\n",
    "axs[1].imshow(acq.actual)\n",
    "axs[2].imshow(acq.kernel)\n",
    "axs[3].imshow(res)\n",
    "axs[4].imshow(res_bin)"
   ]
  },
  {
   "cell_type": "markdown",
   "metadata": {},
   "source": [
    "## Simple 3D Shape Test"
   ]
  },
  {
   "cell_type": "code",
   "execution_count": 55,
   "metadata": {},
   "outputs": [],
   "source": [
    "from nb import utils as nbutils\n",
    "import imp\n",
    "imp.reload(fd_restoration)\n",
    "\n",
    "x = np.zeros((7, 7, 7))\n",
    "x[2:5, 2:5, 2:5] = 1\n",
    "k = np.zeros((5, 5, 5))\n",
    "k[2, 2, 2] = 1\n",
    "\n",
    "acq = fd_data.Acquisition(data=x.astype(np.float32), kernel=k.astype(np.float32), actual=x.astype(np.float32))\n",
    "acq = fd_validation.reblur(acq, scale=0.001)\n",
    "acq.data = rescale_intensity(acq.data, out_range=(0., 1.))\n",
    "\n",
    "res = fd_restoration.richardson_lucy(\n",
    "    acq, 10, pad_mode='log2', real_domain_fft=False, \n",
    "    session_config=tf.ConfigProto(device_count={'GPU': 0}))\n",
    "#res = sk_restoration.richardson_lucy(acq.data, acq.kernel, 10)\n",
    "#res = tfd_exec.run_dl2(acq, 10, 'none')\n",
    "\n",
    "res_bin = (res > res.mean()).astype(np.int64) "
   ]
  },
  {
   "cell_type": "code",
   "execution_count": 56,
   "metadata": {},
   "outputs": [
    {
     "data": {
      "image/png": "[encoded data removed]",
      "text/plain": [
       "<Figure size 864x288 with 1 Axes>"
      ]
     },
     "metadata": {},
     "output_type": "display_data"
    },
    {
     "data": {
      "image/png": "[encoded data removed]",
      "text/plain": [
       "<Figure size 1080x432 with 10 Axes>"
      ]
     },
     "metadata": {},
     "output_type": "display_data"
    }
   ],
   "source": [
    "nbutils.plot_img_preview(acq.data)"
   ]
  },
  {
   "cell_type": "code",
   "execution_count": 58,
   "metadata": {},
   "outputs": [
    {
     "data": {
      "image/png": "[encoded data removed]",
      "text/plain": [
       "<Figure size 864x288 with 1 Axes>"
      ]
     },
     "metadata": {},
     "output_type": "display_data"
    },
    {
     "data": {
      "image/png": "[encoded data removed]",
      "text/plain": [
       "<Figure size 1080x432 with 10 Axes>"
      ]
     },
     "metadata": {},
     "output_type": "display_data"
    }
   ],
   "source": [
    "nbutils.plot_img_preview(res)"
   ]
  },
  {
   "cell_type": "markdown",
   "metadata": {},
   "source": [
    "# Unit Test Case Debugging"
   ]
  },
  {
   "cell_type": "code",
   "execution_count": 24,
   "metadata": {},
   "outputs": [],
   "source": [
    "# Load data for unit test case currently failing (to investigate)\n",
    "import pickle\n",
    "with open('/tmp/flowdec-ut-debug-data.pkl', 'rb') as fd:\n",
    "    utd = pickle.load(fd)"
   ]
  },
  {
   "cell_type": "code",
   "execution_count": 25,
   "metadata": {},
   "outputs": [
    {
     "data": {
      "text/plain": [
       "dict_keys(['data', 'scores', 'acquisition'])"
      ]
     },
     "execution_count": 25,
     "metadata": {},
     "output_type": "execute_result"
    }
   ],
   "source": [
    "utd.keys()"
   ]
  },
  {
   "cell_type": "code",
   "execution_count": 26,
   "metadata": {},
   "outputs": [
    {
     "data": {
      "text/plain": [
       "dict_keys(['tf', 'sk', 'dl2'])"
      ]
     },
     "execution_count": 26,
     "metadata": {},
     "output_type": "execute_result"
    }
   ],
   "source": [
    "utd['data'].keys()"
   ]
  },
  {
   "cell_type": "code",
   "execution_count": 27,
   "metadata": {},
   "outputs": [],
   "source": [
    "dacq = {\n",
    "    'original': utd['acquisition'].actual, \n",
    "    'blurred': utd['acquisition'].data,\n",
    "    'kernel': utd['acquisition'].kernel\n",
    "}\n",
    "dalg = {k: utd['data'][k] for k in utd['data'].keys()}\n",
    "dall = {**dacq, **dalg}"
   ]
  },
  {
   "cell_type": "code",
   "execution_count": 28,
   "metadata": {},
   "outputs": [
    {
     "data": {
      "text/plain": [
       "{'dl2': 0.6007715247551932,\n",
       " 'original': 0.3875905963304686,\n",
       " 'sk': 0.5302748919851094,\n",
       " 'tf': 0.6012137406965922}"
      ]
     },
     "execution_count": 28,
     "metadata": {},
     "output_type": "execute_result"
    }
   ],
   "source": [
    "utd['scores']"
   ]
  },
  {
   "cell_type": "code",
   "execution_count": 29,
   "metadata": {},
   "outputs": [
    {
     "data": {
      "image/png": "[encoded data removed]",
      "text/plain": [
       "<Figure size 1152x360 with 6 Axes>"
      ]
     },
     "metadata": {},
     "output_type": "display_data"
    }
   ],
   "source": [
    "arrs = [(k, dall[k]) for k in dall]\n",
    "\n",
    "fig, axs = plt.subplots(1, len(arrs))\n",
    "fig.set_size_inches(16, 5)\n",
    "for i in range(len(arrs)):\n",
    "    axs[i].imshow(arrs[i][1].max(axis=0))\n",
    "    axs[i].set_title(arrs[i][0])"
   ]
  },
  {
   "cell_type": "code",
   "execution_count": 30,
   "metadata": {},
   "outputs": [
    {
     "data": {
      "image/png": "[encoded data removed]",
      "text/plain": [
       "<Figure size 1152x360 with 6 Axes>"
      ]
     },
     "metadata": {},
     "output_type": "display_data"
    }
   ],
   "source": [
    "from flowdec.validation import score, binarize\n",
    "fig, axs = plt.subplots(1, len(arrs))\n",
    "fig.set_size_inches(16, 5)\n",
    "for i in range(len(arrs)):\n",
    "    img = binarize(arrs[i][1]).max(axis=0)\n",
    "    axs[i].imshow(img)\n",
    "    axs[i].set_title(arrs[i][0])"
   ]
  }
 ],
 "metadata": {
  "kernelspec": {
   "display_name": "Python 3",
   "language": "python",
   "name": "python3"
  },
  "language_info": {
   "codemirror_mode": {
    "name": "ipython",
    "version": 3
   },
   "file_extension": ".py",
   "mimetype": "text/x-python",
   "name": "python",
   "nbconvert_exporter": "python",
   "pygments_lexer": "ipython3",
   "version": "3.6.2"
  }
 },
 "nbformat": 4,
 "nbformat_minor": 2
}
