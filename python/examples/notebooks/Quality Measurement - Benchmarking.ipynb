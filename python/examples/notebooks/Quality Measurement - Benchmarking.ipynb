{
 "cells": [
  {
   "cell_type": "code",
   "execution_count": 1,
   "metadata": {},
   "outputs": [],
   "source": [
    "import tempfile, os, warnings, timeit\n",
    "import pandas as pd\n",
    "import numpy as np\n",
    "from skimage import io\n",
    "from flowdec import data as fd_data\n",
    "from flowdec import psf as fd_psf\n",
    "from flowdec import restoration as fd_restoration\n",
    "\n",
    "DL2_PATH = os.path.join(os.path.expanduser('~'), \n",
    "    'repos', 'misc', 'DeconvolutionLab2', 'target', 'DeconcolutionLab2_-0.1.0-SNAPSHOT.jar')\n",
    "N_ITER = 25 # Number of RL iterations"
   ]
  },
  {
   "cell_type": "code",
   "execution_count": 2,
   "metadata": {},
   "outputs": [
    {
     "data": {
      "text/plain": [
       "{'actual': (128, 256, 512), 'data': (128, 256, 512), 'kernel': (128, 256, 512)}"
      ]
     },
     "execution_count": 2,
     "metadata": {},
     "output_type": "execute_result"
    }
   ],
   "source": [
    "# Load PSF and data\n",
    "#acq = fd_data.bars_25pct()\n",
    "#acq = fd_data.load_bars()\n",
    "acq = fd_data.load_microtubules()\n",
    "acq.shape()"
   ]
  },
  {
   "cell_type": "code",
   "execution_count": 154,
   "metadata": {},
   "outputs": [
    {
     "data": {
      "text/plain": [
       "<module 'flowdec.restoration' from 'C:\\\\Users\\\\User\\\\repos\\\\flowdec\\\\python\\\\flowdec\\\\restoration.py'>"
      ]
     },
     "execution_count": 154,
     "metadata": {},
     "output_type": "execute_result"
    }
   ],
   "source": [
    "import imp\n",
    "imp.reload(fd_data)\n",
    "imp.reload(fd_restoration)"
   ]
  },
  {
   "cell_type": "code",
   "execution_count": 43,
   "metadata": {},
   "outputs": [],
   "source": [
    "def run_flowdec(data, kernel, **kwargs):\n",
    "    algo = fd_restoration.RichardsonLucyDeconvolver(data.ndim, **kwargs)\n",
    "    acq = fd_data.Acquisition(data=data, kernel=kernel)\n",
    "    return algo.initialize().run(acq, niter=N_ITER).data\n",
    "    \n",
    "def run_dl2(data, kernel, algo='RL {}'.format(N_ITER), exargs=''):\n",
    "    # Generate temporary files to store image data within\n",
    "    data_file   = tempfile.mktemp('.tif', 'data-')\n",
    "    kernel_file = tempfile.mktemp('.tif', 'kernel-')\n",
    "    output_file = tempfile.mktemp('', 'output-') \n",
    "\n",
    "    # Ignore low-contrast image warnings from skimage\n",
    "    with warnings.catch_warnings():\n",
    "        warnings.simplefilter(\"ignore\")\n",
    "        io.imsave(data_file, acq.data)\n",
    "        io.imsave(kernel_file, acq.kernel)\n",
    "\n",
    "    os.path.basename(data_file), os.path.basename(kernel_file), os.path.basename(output_file)\n",
    "    \n",
    "    # Setup system call to execute DL2 CLI\n",
    "    dl2_cmd = \"java -Xmx32G -cp {jar} DeconvolutionLab2 Run -image file {data}\"\\\n",
    "        \" -psf file {psf} -algorithm {algo} {exargs} -out stack {output_file} -path {output_path}\"\\\n",
    "        .format(\n",
    "            jar=DL2_PATH, data=data_file, psf=kernel_file, algo=algo, exargs=exargs,\n",
    "            output_file=os.path.basename(output_file), output_path=os.path.dirname(output_file)\n",
    "        )\n",
    "    !$dl2_cmd\n",
    "    return io.imread(output_file + '.tif')"
   ]
  },
  {
   "cell_type": "code",
   "execution_count": 4,
   "metadata": {},
   "outputs": [],
   "source": [
    "%%capture\n",
    "res_dl1 = run_dl2(acq.data, acq.kernel, exargs='-constraint non')"
   ]
  },
  {
   "cell_type": "code",
   "execution_count": 5,
   "metadata": {},
   "outputs": [],
   "source": [
    "%%capture\n",
    "res_dl2 = run_dl2(acq.data, acq.kernel, exargs='-pad E2 E2 1,1 -constraint non')"
   ]
  },
  {
   "cell_type": "code",
   "execution_count": 50,
   "metadata": {},
   "outputs": [],
   "source": [
    "%%capture\n",
    "#res_dl3 = run_dl2(acq.data, acq.kernel, algo='RIF .1')\n",
    "#res_dl3 = run_dl2(acq.data, acq.kernel, algo='NIF')\n",
    "res_dl3 = run_dl2(acq.data, acq.kernel, algo='RLTV 10 0.1')"
   ]
  },
  {
   "cell_type": "code",
   "execution_count": 51,
   "metadata": {},
   "outputs": [
    {
     "data": {
      "text/plain": [
       "((128, 256, 512), dtype('float32'))"
      ]
     },
     "execution_count": 51,
     "metadata": {},
     "output_type": "execute_result"
    }
   ],
   "source": [
    "res_dl3.shape, res_dl3.dtype"
   ]
  },
  {
   "cell_type": "code",
   "execution_count": 7,
   "metadata": {},
   "outputs": [],
   "source": [
    "res_fd1 = run_flowdec(acq.data, acq.kernel)\n",
    "res_fd2 = run_flowdec(acq.data, acq.kernel, start_mode='input', pad_mode='none')\n",
    "res_fd3 = run_flowdec(acq.data, acq.kernel, start_mode='input', pad_mode='log2', pad_min=[1,1,1], pad_fill='constant')"
   ]
  },
  {
   "cell_type": "code",
   "execution_count": 8,
   "metadata": {},
   "outputs": [
    {
     "data": {
      "text/plain": [
       "((128, 256, 512), dtype('float32'))"
      ]
     },
     "execution_count": 8,
     "metadata": {},
     "output_type": "execute_result"
    }
   ],
   "source": [
    "res_fd1.shape, res_fd1.dtype"
   ]
  },
  {
   "cell_type": "code",
   "execution_count": 9,
   "metadata": {},
   "outputs": [
    {
     "data": {
      "text/plain": [
       "((128, 256, 512), dtype('float32'))"
      ]
     },
     "execution_count": 9,
     "metadata": {},
     "output_type": "execute_result"
    }
   ],
   "source": [
    "acq.actual.shape, acq.actual.dtype"
   ]
  },
  {
   "cell_type": "code",
   "execution_count": 52,
   "metadata": {},
   "outputs": [
    {
     "data": {
      "text/html": [
       "<div>\n",
       "<style scoped>\n",
       "    .dataframe tbody tr th:only-of-type {\n",
       "        vertical-align: middle;\n",
       "    }\n",
       "\n",
       "    .dataframe tbody tr th {\n",
       "        vertical-align: top;\n",
       "    }\n",
       "\n",
       "    .dataframe thead th {\n",
       "        text-align: right;\n",
       "    }\n",
       "</style>\n",
       "<table border=\"1\" class=\"dataframe\">\n",
       "  <thead>\n",
       "    <tr style=\"text-align: right;\">\n",
       "      <th></th>\n",
       "      <th>data</th>\n",
       "      <th>actual</th>\n",
       "      <th>fd1</th>\n",
       "      <th>fd2</th>\n",
       "      <th>fd3</th>\n",
       "      <th>dl1</th>\n",
       "      <th>dl2</th>\n",
       "      <th>dl3</th>\n",
       "    </tr>\n",
       "  </thead>\n",
       "  <tbody>\n",
       "    <tr>\n",
       "      <th>count</th>\n",
       "      <td>1.677722e+07</td>\n",
       "      <td>1.677722e+07</td>\n",
       "      <td>1.677722e+07</td>\n",
       "      <td>1.677722e+07</td>\n",
       "      <td>1.677722e+07</td>\n",
       "      <td>1.677722e+07</td>\n",
       "      <td>1.677722e+07</td>\n",
       "      <td>1.677722e+07</td>\n",
       "    </tr>\n",
       "    <tr>\n",
       "      <th>mean</th>\n",
       "      <td>9.721270e+01</td>\n",
       "      <td>8.654011e+01</td>\n",
       "      <td>9.721268e+01</td>\n",
       "      <td>9.721271e+01</td>\n",
       "      <td>9.721254e+01</td>\n",
       "      <td>9.721272e+01</td>\n",
       "      <td>9.721266e+01</td>\n",
       "      <td>1.006150e+02</td>\n",
       "    </tr>\n",
       "    <tr>\n",
       "      <th>std</th>\n",
       "      <td>8.148482e+01</td>\n",
       "      <td>6.080412e+02</td>\n",
       "      <td>2.185103e+02</td>\n",
       "      <td>2.312834e+02</td>\n",
       "      <td>4.945266e+02</td>\n",
       "      <td>2.293803e+02</td>\n",
       "      <td>4.850738e+02</td>\n",
       "      <td>2.122092e+02</td>\n",
       "    </tr>\n",
       "    <tr>\n",
       "      <th>min</th>\n",
       "      <td>0.000000e+00</td>\n",
       "      <td>0.000000e+00</td>\n",
       "      <td>9.316542e-01</td>\n",
       "      <td>0.000000e+00</td>\n",
       "      <td>0.000000e+00</td>\n",
       "      <td>0.000000e+00</td>\n",
       "      <td>0.000000e+00</td>\n",
       "      <td>0.000000e+00</td>\n",
       "    </tr>\n",
       "    <tr>\n",
       "      <th>5%</th>\n",
       "      <td>1.200000e+01</td>\n",
       "      <td>0.000000e+00</td>\n",
       "      <td>2.533535e+00</td>\n",
       "      <td>1.066487e+00</td>\n",
       "      <td>1.247905e-04</td>\n",
       "      <td>1.105496e+00</td>\n",
       "      <td>2.245257e-04</td>\n",
       "      <td>1.312133e+00</td>\n",
       "    </tr>\n",
       "    <tr>\n",
       "      <th>10%</th>\n",
       "      <td>2.000000e+01</td>\n",
       "      <td>0.000000e+00</td>\n",
       "      <td>3.745129e+00</td>\n",
       "      <td>2.228656e+00</td>\n",
       "      <td>5.088485e-04</td>\n",
       "      <td>2.294297e+00</td>\n",
       "      <td>8.641107e-04</td>\n",
       "      <td>3.081004e+00</td>\n",
       "    </tr>\n",
       "    <tr>\n",
       "      <th>25%</th>\n",
       "      <td>4.100000e+01</td>\n",
       "      <td>0.000000e+00</td>\n",
       "      <td>1.214297e+01</td>\n",
       "      <td>1.090744e+01</td>\n",
       "      <td>1.307979e-02</td>\n",
       "      <td>1.103406e+01</td>\n",
       "      <td>1.923849e-02</td>\n",
       "      <td>1.180591e+01</td>\n",
       "    </tr>\n",
       "    <tr>\n",
       "      <th>50%</th>\n",
       "      <td>7.700000e+01</td>\n",
       "      <td>0.000000e+00</td>\n",
       "      <td>3.077214e+01</td>\n",
       "      <td>2.993242e+01</td>\n",
       "      <td>7.834735e-01</td>\n",
       "      <td>3.030785e+01</td>\n",
       "      <td>9.507684e-01</td>\n",
       "      <td>3.811569e+01</td>\n",
       "    </tr>\n",
       "    <tr>\n",
       "      <th>75%</th>\n",
       "      <td>1.330000e+02</td>\n",
       "      <td>0.000000e+00</td>\n",
       "      <td>9.065487e+01</td>\n",
       "      <td>8.522858e+01</td>\n",
       "      <td>1.657648e+01</td>\n",
       "      <td>8.619962e+01</td>\n",
       "      <td>1.769036e+01</td>\n",
       "      <td>1.041858e+02</td>\n",
       "    </tr>\n",
       "    <tr>\n",
       "      <th>90%</th>\n",
       "      <td>1.930000e+02</td>\n",
       "      <td>0.000000e+00</td>\n",
       "      <td>2.259804e+02</td>\n",
       "      <td>2.243740e+02</td>\n",
       "      <td>1.385075e+02</td>\n",
       "      <td>2.242221e+02</td>\n",
       "      <td>1.430305e+02</td>\n",
       "      <td>2.344141e+02</td>\n",
       "    </tr>\n",
       "    <tr>\n",
       "      <th>95%</th>\n",
       "      <td>2.450000e+02</td>\n",
       "      <td>0.000000e+00</td>\n",
       "      <td>3.995809e+02</td>\n",
       "      <td>4.049106e+02</td>\n",
       "      <td>4.290723e+02</td>\n",
       "      <td>4.031663e+02</td>\n",
       "      <td>4.353108e+02</td>\n",
       "      <td>3.828967e+02</td>\n",
       "    </tr>\n",
       "    <tr>\n",
       "      <th>max</th>\n",
       "      <td>1.009000e+03</td>\n",
       "      <td>1.180670e+04</td>\n",
       "      <td>5.131010e+03</td>\n",
       "      <td>6.378396e+03</td>\n",
       "      <td>2.264998e+04</td>\n",
       "      <td>6.291032e+03</td>\n",
       "      <td>2.186024e+04</td>\n",
       "      <td>9.539604e+03</td>\n",
       "    </tr>\n",
       "  </tbody>\n",
       "</table>\n",
       "</div>"
      ],
      "text/plain": [
       "               data        actual           fd1           fd2           fd3  \\\n",
       "count  1.677722e+07  1.677722e+07  1.677722e+07  1.677722e+07  1.677722e+07   \n",
       "mean   9.721270e+01  8.654011e+01  9.721268e+01  9.721271e+01  9.721254e+01   \n",
       "std    8.148482e+01  6.080412e+02  2.185103e+02  2.312834e+02  4.945266e+02   \n",
       "min    0.000000e+00  0.000000e+00  9.316542e-01  0.000000e+00  0.000000e+00   \n",
       "5%     1.200000e+01  0.000000e+00  2.533535e+00  1.066487e+00  1.247905e-04   \n",
       "10%    2.000000e+01  0.000000e+00  3.745129e+00  2.228656e+00  5.088485e-04   \n",
       "25%    4.100000e+01  0.000000e+00  1.214297e+01  1.090744e+01  1.307979e-02   \n",
       "50%    7.700000e+01  0.000000e+00  3.077214e+01  2.993242e+01  7.834735e-01   \n",
       "75%    1.330000e+02  0.000000e+00  9.065487e+01  8.522858e+01  1.657648e+01   \n",
       "90%    1.930000e+02  0.000000e+00  2.259804e+02  2.243740e+02  1.385075e+02   \n",
       "95%    2.450000e+02  0.000000e+00  3.995809e+02  4.049106e+02  4.290723e+02   \n",
       "max    1.009000e+03  1.180670e+04  5.131010e+03  6.378396e+03  2.264998e+04   \n",
       "\n",
       "                dl1           dl2           dl3  \n",
       "count  1.677722e+07  1.677722e+07  1.677722e+07  \n",
       "mean   9.721272e+01  9.721266e+01  1.006150e+02  \n",
       "std    2.293803e+02  4.850738e+02  2.122092e+02  \n",
       "min    0.000000e+00  0.000000e+00  0.000000e+00  \n",
       "5%     1.105496e+00  2.245257e-04  1.312133e+00  \n",
       "10%    2.294297e+00  8.641107e-04  3.081004e+00  \n",
       "25%    1.103406e+01  1.923849e-02  1.180591e+01  \n",
       "50%    3.030785e+01  9.507684e-01  3.811569e+01  \n",
       "75%    8.619962e+01  1.769036e+01  1.041858e+02  \n",
       "90%    2.242221e+02  1.430305e+02  2.344141e+02  \n",
       "95%    4.031663e+02  4.353108e+02  3.828967e+02  \n",
       "max    6.291032e+03  2.186024e+04  9.539604e+03  "
      ]
     },
     "execution_count": 52,
     "metadata": {},
     "output_type": "execute_result"
    }
   ],
   "source": [
    "pd.concat([\n",
    "    pd.Series(v.ravel()).describe(percentiles=[.05, .1, .25, .5, .75, .9, .95]).rename(k)\n",
    "    for k, v in {\n",
    "        'data': acq.data, 'actual': acq.actual, \n",
    "        'fd1': res_fd1, 'fd2': res_fd2, 'fd3': res_fd3, \n",
    "        'dl1': res_dl1, 'dl2': res_dl2, 'dl3': res_dl3\n",
    "    }.items()\n",
    "], axis=1)"
   ]
  },
  {
   "cell_type": "code",
   "execution_count": 53,
   "metadata": {},
   "outputs": [
    {
     "data": {
      "text/plain": [
       "<matplotlib.image.AxesImage at 0x1a31d39beb8>"
      ]
     },
     "execution_count": 53,
     "metadata": {},
     "output_type": "execute_result"
    },
    {
     "data": {
      "image/png": "[encoded data removed]",
      "text/plain": [
       "<Figure size 432x288 with 2 Axes>"
      ]
     },
     "metadata": {},
     "output_type": "display_data"
    }
   ],
   "source": [
    "import matplotlib.pyplot as plt\n",
    "fig, axs = plt.subplots(1, 2)\n",
    "axs[0].imshow(res_fd2.max(axis=0))\n",
    "axs[1].imshow(res_dl3.max(axis=0))"
   ]
  },
  {
   "cell_type": "code",
   "execution_count": 11,
   "metadata": {},
   "outputs": [],
   "source": [
    "from skimage.measure import compare_ssim, compare_psnr, compare_nrmse, compare_mse\n",
    "from skimage.exposure import rescale_intensity\n",
    "\n",
    "score_fns = dict(\n",
    "    ssim=compare_ssim,\n",
    "    psnr=compare_psnr,\n",
    "    nrmse=compare_nrmse,\n",
    "    #mse=compare_mse\n",
    ")\n",
    "\n",
    "def to_uint16(img):\n",
    "    return img.clip(0, 65535).astype(np.uint16)\n",
    "\n",
    "def get_scores(img_true, img_pred):\n",
    "    img_pred = to_uint16(img_pred)\n",
    "    img_true = to_uint16(img_true)\n",
    "    return pd.Series({k:fn(img_true, img_pred) for k, fn in score_fns.items()})"
   ]
  },
  {
   "cell_type": "code",
   "execution_count": 32,
   "metadata": {},
   "outputs": [
    {
     "data": {
      "text/html": [
       "<div>\n",
       "<style scoped>\n",
       "    .dataframe tbody tr th:only-of-type {\n",
       "        vertical-align: middle;\n",
       "    }\n",
       "\n",
       "    .dataframe tbody tr th {\n",
       "        vertical-align: top;\n",
       "    }\n",
       "\n",
       "    .dataframe thead th {\n",
       "        text-align: right;\n",
       "    }\n",
       "</style>\n",
       "<table border=\"1\" class=\"dataframe\">\n",
       "  <thead>\n",
       "    <tr style=\"text-align: right;\">\n",
       "      <th></th>\n",
       "      <th>DL2-Defaults</th>\n",
       "      <th>DL2-Paddings</th>\n",
       "      <th>Flowdec-Defaults</th>\n",
       "      <th>Flowdec-Matching</th>\n",
       "      <th>Flowdec-Paddings</th>\n",
       "    </tr>\n",
       "  </thead>\n",
       "  <tbody>\n",
       "    <tr>\n",
       "      <th>nrmse</th>\n",
       "      <td>3.210454</td>\n",
       "      <td>3.118773</td>\n",
       "      <td>3.439062</td>\n",
       "      <td>3.190914</td>\n",
       "      <td>3.100556</td>\n",
       "    </tr>\n",
       "    <tr>\n",
       "      <th>psnr</th>\n",
       "      <td>14.903372</td>\n",
       "      <td>15.155026</td>\n",
       "      <td>14.305900</td>\n",
       "      <td>14.956398</td>\n",
       "      <td>15.205908</td>\n",
       "    </tr>\n",
       "    <tr>\n",
       "      <th>ssim</th>\n",
       "      <td>0.709299</td>\n",
       "      <td>0.789698</td>\n",
       "      <td>0.690510</td>\n",
       "      <td>0.716500</td>\n",
       "      <td>0.792731</td>\n",
       "    </tr>\n",
       "  </tbody>\n",
       "</table>\n",
       "</div>"
      ],
      "text/plain": [
       "       DL2-Defaults  DL2-Paddings  Flowdec-Defaults  Flowdec-Matching  \\\n",
       "nrmse      3.210454      3.118773          3.439062          3.190914   \n",
       "psnr      14.903372     15.155026         14.305900         14.956398   \n",
       "ssim       0.709299      0.789698          0.690510          0.716500   \n",
       "\n",
       "       Flowdec-Paddings  \n",
       "nrmse          3.100556  \n",
       "psnr          15.205908  \n",
       "ssim           0.792731  "
      ]
     },
     "execution_count": 32,
     "metadata": {},
     "output_type": "execute_result"
    }
   ],
   "source": [
    "# Bars\n",
    "df = pd.DataFrame({\n",
    "    'Flowdec-Defaults': get_scores(acq.actual, res_fd1),\n",
    "    'Flowdec-Matching': get_scores(acq.actual, res_fd2),\n",
    "    'Flowdec-Paddings': get_scores(acq.actual, res_fd3),\n",
    "    'DL2-Defaults': get_scores(acq.actual, res_dl1),\n",
    "    'DL2-Paddings': get_scores(acq.actual, res_dl2)\n",
    "})\n",
    "df"
   ]
  },
  {
   "cell_type": "code",
   "execution_count": 54,
   "metadata": {},
   "outputs": [
    {
     "data": {
      "text/html": [
       "<div>\n",
       "<style scoped>\n",
       "    .dataframe tbody tr th:only-of-type {\n",
       "        vertical-align: middle;\n",
       "    }\n",
       "\n",
       "    .dataframe tbody tr th {\n",
       "        vertical-align: top;\n",
       "    }\n",
       "\n",
       "    .dataframe thead th {\n",
       "        text-align: right;\n",
       "    }\n",
       "</style>\n",
       "<table border=\"1\" class=\"dataframe\">\n",
       "  <thead>\n",
       "    <tr style=\"text-align: right;\">\n",
       "      <th></th>\n",
       "      <th>DL2-Defaults</th>\n",
       "      <th>DL2-Paddings</th>\n",
       "      <th>DL2-RIF</th>\n",
       "      <th>Flowdec-Defaults</th>\n",
       "      <th>Flowdec-Matching</th>\n",
       "      <th>Flowdec-Paddings</th>\n",
       "    </tr>\n",
       "  </thead>\n",
       "  <tbody>\n",
       "    <tr>\n",
       "      <th>nrmse</th>\n",
       "      <td>0.848344</td>\n",
       "      <td>0.983676</td>\n",
       "      <td>0.885446</td>\n",
       "      <td>0.871985</td>\n",
       "      <td>0.846733</td>\n",
       "      <td>0.993933</td>\n",
       "    </tr>\n",
       "    <tr>\n",
       "      <th>psnr</th>\n",
       "      <td>41.993272</td>\n",
       "      <td>40.707667</td>\n",
       "      <td>41.621462</td>\n",
       "      <td>41.754527</td>\n",
       "      <td>42.009780</td>\n",
       "      <td>40.617565</td>\n",
       "    </tr>\n",
       "    <tr>\n",
       "      <th>ssim</th>\n",
       "      <td>0.939489</td>\n",
       "      <td>0.928242</td>\n",
       "      <td>0.932685</td>\n",
       "      <td>0.936005</td>\n",
       "      <td>0.939780</td>\n",
       "      <td>0.927768</td>\n",
       "    </tr>\n",
       "  </tbody>\n",
       "</table>\n",
       "</div>"
      ],
      "text/plain": [
       "       DL2-Defaults  DL2-Paddings    DL2-RIF  Flowdec-Defaults  \\\n",
       "nrmse      0.848344      0.983676   0.885446          0.871985   \n",
       "psnr      41.993272     40.707667  41.621462         41.754527   \n",
       "ssim       0.939489      0.928242   0.932685          0.936005   \n",
       "\n",
       "       Flowdec-Matching  Flowdec-Paddings  \n",
       "nrmse          0.846733          0.993933  \n",
       "psnr          42.009780         40.617565  \n",
       "ssim           0.939780          0.927768  "
      ]
     },
     "execution_count": 54,
     "metadata": {},
     "output_type": "execute_result"
    }
   ],
   "source": [
    "# Microtubules\n",
    "df = pd.DataFrame({\n",
    "    'Flowdec-Defaults': get_scores(acq.actual, res_fd1),\n",
    "    'Flowdec-Matching': get_scores(acq.actual, res_fd2),\n",
    "    'Flowdec-Paddings': get_scores(acq.actual, res_fd3),\n",
    "    'DL2-Defaults': get_scores(acq.actual, res_dl1),\n",
    "    'DL2-Paddings': get_scores(acq.actual, res_dl2),\n",
    "    'DL2-RIF': get_scores(acq.actual, res_dl3)\n",
    "})\n",
    "df"
   ]
  },
  {
   "cell_type": "code",
   "execution_count": null,
   "metadata": {},
   "outputs": [],
   "source": []
  }
 ],
 "metadata": {
  "kernelspec": {
   "display_name": "Python 3",
   "language": "python",
   "name": "python3"
  },
  "language_info": {
   "codemirror_mode": {
    "name": "ipython",
    "version": 3
   },
   "file_extension": ".py",
   "mimetype": "text/x-python",
   "name": "python",
   "nbconvert_exporter": "python",
   "pygments_lexer": "ipython3",
   "version": "3.6.4"
  }
 },
 "nbformat": 4,
 "nbformat_minor": 2
}
